{
 "cells": [
  {
   "cell_type": "code",
   "execution_count": 3,
   "metadata": {},
   "outputs": [],
   "source": [
    "from socket import *\n",
    "import random"
   ]
  },
  {
   "cell_type": "code",
   "execution_count": null,
   "metadata": {},
   "outputs": [],
   "source": [
    "serverHost = '127.0.0.1'\n",
    "serverPort = 50007\n",
    "serverSocket = socket(AF_INET,SOCK_DGRAM)\n",
    "serverSocket.bind((serverHost,serverPort))\n",
    "print('The server is ready to recieve')\n",
    "while True:\n",
    "    sentence, clientAddress = serverSocket.recvfrom(1024)\n",
    "    print('Message recieved:' + sentence)\n",
    "    cap = sentence.decode().upper()\n",
    "    serverSocket.sendto(cap.encode(),clientAddress)"
   ]
  },
  {
   "cell_type": "code",
   "execution_count": null,
   "metadata": {},
   "outputs": [],
   "source": [
    "serverName = \"127.0.0.1\"\n",
    "severPort = 50007\n",
    "clientSocket = socket(AF_INET,SOCK_DGRAM)\n",
    "message = input('Input sentence:')\n",
    "clientSocket.sendto(message.encode(),(serverName,serverPort))\n",
    "modifiedMessage, serverAddress = clientSocket.recvfrom(2048)\n",
    "print(modifiedMessage.decode())\n",
    "clientSocket.close()"
   ]
  }
 ],
 "metadata": {
  "kernelspec": {
   "display_name": "Python 3",
   "language": "python",
   "name": "python3"
  },
  "language_info": {
   "codemirror_mode": {
    "name": "ipython",
    "version": 3
   },
   "file_extension": ".py",
   "mimetype": "text/x-python",
   "name": "python",
   "nbconvert_exporter": "python",
   "pygments_lexer": "ipython3",
   "version": "3.8.2"
  }
 },
 "nbformat": 4,
 "nbformat_minor": 4
}
