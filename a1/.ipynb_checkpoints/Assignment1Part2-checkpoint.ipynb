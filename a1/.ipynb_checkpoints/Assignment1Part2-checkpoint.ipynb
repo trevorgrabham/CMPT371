{
 "cells": [
  {
   "cell_type": "markdown",
   "metadata": {},
   "source": [
    "# Question 4"
   ]
  },
  {
   "cell_type": "markdown",
   "metadata": {},
   "source": [
    "**a) What is the propagation delay?**"
   ]
  },
  {
   "cell_type": "markdown",
   "metadata": {},
   "source": [
    "    Propogation delay is determined by the propogation speed and the distance betweent the points. The propogation speed is\n",
    "    2*10^8 m/s and the distance is 5000m"
   ]
  },
  {
   "cell_type": "code",
   "execution_count": 1,
   "metadata": {},
   "outputs": [],
   "source": [
    "speed = 2*10**8\n",
    "distance = 5000"
   ]
  },
  {
   "cell_type": "markdown",
   "metadata": {},
   "source": [
    "    We can now calculate the propogation delay"
   ]
  },
  {
   "cell_type": "code",
   "execution_count": 2,
   "metadata": {},
   "outputs": [
    {
     "name": "stdout",
     "output_type": "stream",
     "text": [
      "The propogation delay will be 25.0 us\n"
     ]
    }
   ],
   "source": [
    "propogation_delay = distance/speed\n",
    "print('The propogation delay will be', propogation_delay*10**6,'us')"
   ]
  },
  {
   "cell_type": "markdown",
   "metadata": {},
   "source": [
    "**b) What is the maximum number of bits that have left A before the first bit arrives\n",
    "at B? This number of bits is called the bandwidth delay product**"
   ]
  },
  {
   "cell_type": "markdown",
   "metadata": {},
   "source": [
    "    The number of bits that have left A by the time the first bit arrives at B will be equal to the transmission rate of \n",
    "    the connection times the amount of time that it will take the first bit to reach B (the propogation delay). We can \n",
    "    calculate the maximum number of bits as follows"
   ]
  },
  {
   "cell_type": "code",
   "execution_count": 3,
   "metadata": {},
   "outputs": [
    {
     "name": "stdout",
     "output_type": "stream",
     "text": [
      "The maximum number of bits that have left A before the first bit arrives at B is 629 bits\n"
     ]
    }
   ],
   "source": [
    "transmission_rate = 24*2**20          # bits per second\n",
    "bandwidth_delay_product = int(transmission_rate*propogation_delay)       # cast it to an int to round down\n",
    "print('The maximum number of bits that have left A before the first bit arrives at B is', bandwidth_delay_product,'bits')"
   ]
  },
  {
   "cell_type": "markdown",
   "metadata": {},
   "source": [
    "**c) We can think of each bit occupying a piece of the link. If the bandwidth delay\n",
    "product tells us that there are 100 bits in the transmission medium then we can think of\n",
    "each bit occupying 1/100 of the length of the transmission media. What is the width of\n",
    "each bit (the length of the transmission medium it fills)?**"
   ]
  },
  {
   "cell_type": "markdown",
   "metadata": {},
   "source": [
    "    We need to know how many bits are in the medium at any given time (the bandwidth_daley_product) and the length of the \n",
    "    medium. Given that the medium is 5000m long and we have 629 bits in the medium at any given time, we can calculate the\n",
    "    width of each bit as follows"
   ]
  },
  {
   "cell_type": "code",
   "execution_count": 4,
   "metadata": {},
   "outputs": [
    {
     "name": "stdout",
     "output_type": "stream",
     "text": [
      "Each bit is theoretically 7.94912559618442 m long\n"
     ]
    }
   ],
   "source": [
    "bit_width = distance/bandwidth_delay_product\n",
    "print('Each bit is theoretically',bit_width,'m long')"
   ]
  },
  {
   "cell_type": "markdown",
   "metadata": {},
   "source": [
    "**d) Consider sending the file through the packet switched network without\n",
    "message segmentation (as a single packet). Assume that each of the intermediate hosts\n",
    "are store and forward nodes. How long does it take to send the file from A to B?**"
   ]
  },
  {
   "cell_type": "markdown",
   "metadata": {},
   "source": [
    "    To begin with, we know that the file is 3GB or 3*2^30 bits, the propogation delay on each link is 0.004s, the\n",
    "    processing delay at each link is 0.003s, and there is no queueing delay. We also know that there at 9 intermediate \n",
    "    links."
   ]
  },
  {
   "cell_type": "code",
   "execution_count": 5,
   "metadata": {},
   "outputs": [],
   "source": [
    "file_size = 3*2**30\n",
    "propogation_delay = 0.004\n",
    "processing_delay = 0.003\n",
    "number_links = 9"
   ]
  },
  {
   "cell_type": "markdown",
   "metadata": {},
   "source": [
    "    We also need to find out the transmission delay. For the case when we do not segment the file, we will have the packet \n",
    "    size be equal to the file size. We also have a transmission rate of 90Mbps. Therefore, we are now able to calculate the\n",
    "    transmission delay as follows"
   ]
  },
  {
   "cell_type": "code",
   "execution_count": 6,
   "metadata": {},
   "outputs": [],
   "source": [
    "transmission_rate = 90*2**20        # bits per second\n",
    "transmission_delay = file_size/transmission_rate"
   ]
  },
  {
   "cell_type": "markdown",
   "metadata": {},
   "source": [
    "    Finally, to get the overall delay, we realize that at each of the intermediate links as well as at the original host A,\n",
    "    we encounter a propogation delay and transmission delay. We also encounter a processing delay at each of the\n",
    "    intermediate links as well as the end host, B. We will have a count of 10 for each delay. We can now calculate the\n",
    "    total delay as follows"
   ]
  },
  {
   "cell_type": "code",
   "execution_count": 7,
   "metadata": {},
   "outputs": [
    {
     "name": "stdout",
     "output_type": "stream",
     "text": [
      "The total amount of time that it will take to send the file from A to B will be 341.4033333333333 s, or 5 m 41.40333333333331 s\n"
     ]
    }
   ],
   "source": [
    "total_delay = (number_links + 1)*(processing_delay+propogation_delay+transmission_delay)\n",
    "print('The total amount of time that it will take to send the file from A to B will be',total_delay,'s, or', int(total_delay//60), 'm', total_delay%60, 's')"
   ]
  },
  {
   "cell_type": "markdown",
   "metadata": {},
   "source": [
    "**e)  Assume that the file is segmented into packets containing 12000 bits each. Each\n",
    "packet has a header of 200 bits. If a packet is partially full of data the remainder of the\n",
    "data field is filled with zeros before the resulting full size packet is transmitted. How long\n",
    "does it take for the file to be transmitted through the network (assume no queuing delays)**"
   ]
  },
  {
   "cell_type": "markdown",
   "metadata": {},
   "source": [
    "    We will have the same file size, propogation delay, processing delay, and number of intermediate links as with part d).\n",
    "    However, we will have a new transmission delay, as we are sending smaller packets, this time of size 12000 with a\n",
    "    header that consists of 200 of those bits"
   ]
  },
  {
   "cell_type": "code",
   "execution_count": 8,
   "metadata": {},
   "outputs": [],
   "source": [
    "packet_size = 12000\n",
    "transmission_delay = packet_size/transmission_rate"
   ]
  },
  {
   "cell_type": "markdown",
   "metadata": {},
   "source": [
    "    We can now calculate the amount of delay experienced by each packet, using the same reasoning as in part d)"
   ]
  },
  {
   "cell_type": "code",
   "execution_count": 9,
   "metadata": {},
   "outputs": [],
   "source": [
    "packet_delay = (number_links + 1)*(processing_delay+propogation_delay+transmission_delay)"
   ]
  },
  {
   "cell_type": "markdown",
   "metadata": {},
   "source": [
    "    However, now we must also take into account, how many packets we have to send into the system"
   ]
  },
  {
   "cell_type": "code",
   "execution_count": 10,
   "metadata": {},
   "outputs": [],
   "source": [
    "data_per_packet = 12000-200\n",
    "number_of_packets = file_size/data_per_packet\n",
    "if number_of_packets%1 != 0:                # rounds up if not a whole number\n",
    "    number_of_packets = number_of_packets//1 + 1"
   ]
  },
  {
   "cell_type": "markdown",
   "metadata": {},
   "source": [
    "    Finally, we take into account how long it will take to send the first n-1 packets into the system and then add on the \n",
    "    time it will take for the nth packet to reach host B. The rate at which we send packets into the system is limited by \n",
    "    the transmission rate and the size of the packets. Once we get this rate, we then have to multiply it by the number of\n",
    "    packets that we are sending into the system"
   ]
  },
  {
   "cell_type": "markdown",
   "metadata": {},
   "source": [
    "##### One assumption made is that the processing delay does not effect the rate at which we can send the file into the system. If we take into account that we cannot start recieving the bits of the next packet until the current packet has finished being processed then we would have to add a term of (number_of_packets-1)*processing_delay onto the n_minus_one_time"
   ]
  },
  {
   "cell_type": "code",
   "execution_count": 11,
   "metadata": {},
   "outputs": [
    {
     "name": "stdout",
     "output_type": "stream",
     "text": [
      "Using packets of 12000 bits, it will take 34.7831093343099 s to transmit the file from A to B\n"
     ]
    }
   ],
   "source": [
    "packet_rate = packet_size/transmission_rate\n",
    "n_minus_one_time = packet_rate * (number_of_packets-1)\n",
    "total_time = n_minus_one_time + packet_delay\n",
    "print('Using packets of 12000 bits, it will take', total_time,'s to transmit the file from A to B')"
   ]
  },
  {
   "cell_type": "markdown",
   "metadata": {},
   "source": [
    "# Question 5"
   ]
  },
  {
   "cell_type": "markdown",
   "metadata": {},
   "source": [
    "**a) What is the difference between a basic HTTP GET request and a conditional\n",
    "HTTP get request? When is each type of request used?**"
   ]
  },
  {
   "cell_type": "markdown",
   "metadata": {},
   "source": [
    "    A condtional GET is the same as a regular GET, except it includes an if-modified-since field that contains the value of\n",
    "    the last-modified field from the caches local copy of the webpage. The conditional GET is used by local caches to \n",
    "    ensure that their version of webpages are all up to date. The GET request is used when there is not a cached copy of\n",
    "    the webpage, when there is no local caches or for the first time requesting a webpage"
   ]
  },
  {
   "cell_type": "markdown",
   "metadata": {},
   "source": [
    "**b) What is different about the responses to a basic HTTP GET command and to a\n",
    "conditional HTTP GET request? What information does each type of response return?\n",
    "Would you expect a different response to the conditional get if the web page had been\n",
    "modified between the two requests?**"
   ]
  },
  {
   "cell_type": "markdown",
   "metadata": {},
   "source": [
    "    The response to a conditional GET request will be identical to a regular GET request if the cached webpage is not up to\n",
    "    date. However, if the cached webpage is up to date then the server will send a 304 not-modified response and the data \n",
    "    field will be empty, as to save bandwidth and the precieved delay."
   ]
  },
  {
   "cell_type": "markdown",
   "metadata": {},
   "source": [
    "**c) What browser is making the request? What version of HTTP is that browser\n",
    "running? What version of HTTP is the queried web server running? Give reasons for your\n",
    "answers based on selected packets from the supplied packet captures**"
   ]
  },
  {
   "cell_type": "markdown",
   "metadata": {},
   "source": [
    "    The browser making the request is Mozilla/5.0. The browser is running HTTP/1.1. The server is also running version 1.1\n",
    "    We can check which browser and the browsers HTTP version by checking one of the GET requests and expeanding the HTTP \n",
    "    section of the request. Under there, we can see the HTTP version in the request line, and we can see the browers in the \n",
    "    user-agent header line. We can find the servers HTTP version by checking the status line for the servers response \n",
    "    message"
   ]
  },
  {
   "cell_type": "markdown",
   "metadata": {},
   "source": [
    "**d) What was the IP address of the computer running the browser? What was the\n",
    "IP address of the web server it queried? Use evidence from the file\n",
    "HTTP2020summary.pcapng.**"
   ]
  },
  {
   "cell_type": "markdown",
   "metadata": {},
   "source": [
    "    The source IP address of the computer running the browser is 192.168.1.44 and the server IP address is 69.90.66.160.\n",
    "    We can tell this from any of the HTTP messages, by either looking under the ITP header or by simply looking at the \n",
    "    source and destination columns. If the request was a GET request then the source will be the host running the browser, \n",
    "    if it is a response message, then the source will be the web server"
   ]
  },
  {
   "cell_type": "markdown",
   "metadata": {},
   "source": [
    "**e) For one of the HTTP GET responses shown in file conversationonly.pdf how many\n",
    "packets were used to carry the HTTP GET response from the server to the client? How\n",
    "did you determine your answer?**"
   ]
  },
  {
   "cell_type": "markdown",
   "metadata": {},
   "source": [
    "    Looking at time 1.413535 in the conversation.pcapng file, we can see an HTTP GET response from the server. This \n",
    "    response was sent using 6 packets, 5 of size 1460 bytes and one of 1402 bytes. We can see this in the header just \n",
    "    under the TCP header"
   ]
  },
  {
   "cell_type": "markdown",
   "metadata": {},
   "source": [
    "**f) Were persistent or non-persistent connections used to download the webpage\n",
    "information from the server? Explain why you think so?**"
   ]
  },
  {
   "cell_type": "markdown",
   "metadata": {},
   "source": [
    "    It would appear, looking at converstation.pcapng, that the webpages are downloaded using non-persistent TCP. This is \n",
    "    because of the fact that it would appear that there are no points in time where the server has sent more than one \n",
    "    response message to the clients HTTP GET messages, without the client having to send a SYN request through TCP. There\n",
    "    are times where the client sends the GET request before the SYN request, however it would appear that the server is not\n",
    "    sending the HTTP response message before it establishes a connection, and sends a SYNACK response before it send the \n",
    "    HTTP response\n"
   ]
  },
  {
   "cell_type": "markdown",
   "metadata": {},
   "source": [
    "**g) Can you see any evidence that pipelining was used to download the webpage\n",
    "information from the server? Explain why you think pipelining was used, or why you think\n",
    "pipelining was not used**"
   ]
  },
  {
   "cell_type": "markdown",
   "metadata": {},
   "source": [
    "    We can see that pipelining was used because we can see evidence of multiple TCP messages being sent by both the client\n",
    "    and the server back to back, without waiting for a response for a particular message. We can see this all the way at \n",
    "    time 1.413083 in conversation.pcapng, when the server sends 5 TCP segments in a row, without waiting for a response \n",
    "    from the client, confirming that it was recieved properly. Another giveaway, being that we know that the messages were\n",
    "    sent using TCP, and TCP was created using pipelining, as well as other things such as cumulative acknowledgements"
   ]
  }
 ],
 "metadata": {
  "kernelspec": {
   "display_name": "Python 3",
   "language": "python",
   "name": "python3"
  },
  "language_info": {
   "codemirror_mode": {
    "name": "ipython",
    "version": 3
   },
   "file_extension": ".py",
   "mimetype": "text/x-python",
   "name": "python",
   "nbconvert_exporter": "python",
   "pygments_lexer": "ipython3",
   "version": "3.8.2"
  }
 },
 "nbformat": 4,
 "nbformat_minor": 4
}
