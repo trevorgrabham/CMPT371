{
 "cells": [
  {
   "cell_type": "markdown",
   "metadata": {},
   "source": [
    "# CMPT 371 - Assignment 1\n",
    "### Trevor Grabham - 301281720"
   ]
  },
  {
   "cell_type": "markdown",
   "metadata": {},
   "source": [
    "### Question 1"
   ]
  },
  {
   "cell_type": "markdown",
   "metadata": {},
   "source": [
    "**a) What is the average percentage of the time each line is used?**"
   ]
  },
  {
   "cell_type": "markdown",
   "metadata": {},
   "source": [
    "    Each channel supports up to 2.5MB per second"
   ]
  },
  {
   "cell_type": "code",
   "execution_count": 1,
   "metadata": {},
   "outputs": [],
   "source": [
    "maximum_rate = 2.5"
   ]
  },
  {
   "cell_type": "markdown",
   "metadata": {},
   "source": [
    "    Each channel is on average only sending 0.5MB per second"
   ]
  },
  {
   "cell_type": "code",
   "execution_count": 2,
   "metadata": {},
   "outputs": [],
   "source": [
    "average_rate = 0.5"
   ]
  },
  {
   "cell_type": "code",
   "execution_count": 3,
   "metadata": {},
   "outputs": [
    {
     "name": "stdout",
     "output_type": "stream",
     "text": [
      "The average percentage of time that each line is in use is 20.0 %\n"
     ]
    }
   ],
   "source": [
    "average_percent = (average_rate/maximum_rate)*100\n",
    "print('The average percentage of time that each line is in use is',average_percent,'%')"
   ]
  },
  {
   "cell_type": "markdown",
   "metadata": {},
   "source": [
    "**b) What fraction of the information being sent is overhead?**"
   ]
  },
  {
   "cell_type": "markdown",
   "metadata": {},
   "source": [
    "    Each frame sends 45 bytes of header"
   ]
  },
  {
   "cell_type": "code",
   "execution_count": 4,
   "metadata": {},
   "outputs": [],
   "source": [
    "header_size = 45"
   ]
  },
  {
   "cell_type": "markdown",
   "metadata": {},
   "source": [
    "    Each frame sends over 1200 bytes total"
   ]
  },
  {
   "cell_type": "code",
   "execution_count": 5,
   "metadata": {},
   "outputs": [],
   "source": [
    "total_size = 1200"
   ]
  },
  {
   "cell_type": "code",
   "execution_count": 6,
   "metadata": {},
   "outputs": [
    {
     "name": "stdout",
     "output_type": "stream",
     "text": [
      "The fraction of overhead data being sent is 0.0375\n"
     ]
    }
   ],
   "source": [
    "fraction_header = header_size/total_size\n",
    "print('The fraction of overhead data being sent is', fraction_header)"
   ]
  },
  {
   "cell_type": "markdown",
   "metadata": {},
   "source": [
    "**c) What is the average input bit rate summed over all signals?**"
   ]
  },
  {
   "cell_type": "markdown",
   "metadata": {},
   "source": [
    "    There are 80 channels"
   ]
  },
  {
   "cell_type": "code",
   "execution_count": 7,
   "metadata": {},
   "outputs": [],
   "source": [
    "number_channels = 80"
   ]
  },
  {
   "cell_type": "markdown",
   "metadata": {},
   "source": [
    "    The average input bit rate is 0.5MB per second on each channel"
   ]
  },
  {
   "cell_type": "code",
   "execution_count": 8,
   "metadata": {},
   "outputs": [],
   "source": [
    "bit_rate_per_channel = 0.5"
   ]
  },
  {
   "cell_type": "code",
   "execution_count": 9,
   "metadata": {},
   "outputs": [
    {
     "name": "stdout",
     "output_type": "stream",
     "text": [
      "The average bit rate over all of the channels is 40.0 MB/s\n"
     ]
    }
   ],
   "source": [
    "average_bit_rate_total = number_channels * bit_rate_per_channel\n",
    "print('The average bit rate over all of the channels is',average_bit_rate_total,'MB/s')"
   ]
  },
  {
   "cell_type": "markdown",
   "metadata": {},
   "source": [
    "**d) What is the average data transmission rate summed over all signals?\n",
    "(data only)**"
   ]
  },
  {
   "cell_type": "markdown",
   "metadata": {},
   "source": [
    "    We know that the data makes up 1155 of the 1200 bytes being send over each frame"
   ]
  },
  {
   "cell_type": "code",
   "execution_count": 10,
   "metadata": {},
   "outputs": [],
   "source": [
    "data_size = 1155\n",
    "total_size = 1200"
   ]
  },
  {
   "cell_type": "markdown",
   "metadata": {},
   "source": [
    "    We therefore know the fraction of the data sent"
   ]
  },
  {
   "cell_type": "code",
   "execution_count": 11,
   "metadata": {},
   "outputs": [
    {
     "name": "stdout",
     "output_type": "stream",
     "text": [
      "The fraction of data sent is 0.9625\n"
     ]
    }
   ],
   "source": [
    "fraction_data = data_size/total_size\n",
    "print('The fraction of data sent is',fraction_data)"
   ]
  },
  {
   "cell_type": "markdown",
   "metadata": {},
   "source": [
    "    We know what the overall bit rate of all of the channels combined is\n",
    "    and we know what percentage of the bits make up the data.\n",
    "    Therefore, we are able to tell what the data transmission rate is over all the signals"
   ]
  },
  {
   "cell_type": "code",
   "execution_count": 14,
   "metadata": {},
   "outputs": [
    {
     "name": "stdout",
     "output_type": "stream",
     "text": [
      "The average data transmission rate summed over all signals is 38.5 MB/s\n"
     ]
    }
   ],
   "source": [
    "average_data_rate_total = average_bit_rate_total*fraction_data\n",
    "print('The average data transmission rate summed over all signals is',average_data_rate_total,'MB/s')"
   ]
  },
  {
   "cell_type": "markdown",
   "metadata": {},
   "source": [
    "**e) What percentage of the line’s capacity will be utilized?**"
   ]
  },
  {
   "cell_type": "markdown",
   "metadata": {},
   "source": [
    "##### It depends on whether we are talking about the amount utilized for bit transfer of data transfer"
   ]
  },
  {
   "cell_type": "markdown",
   "metadata": {},
   "source": [
    "    For either of them, the lines total capacity is the same, 50MB/s"
   ]
  },
  {
   "cell_type": "code",
   "execution_count": 13,
   "metadata": {},
   "outputs": [],
   "source": [
    "total_capacity = 50"
   ]
  },
  {
   "cell_type": "markdown",
   "metadata": {},
   "source": [
    "    For the total bit transfer, we will use the input bit rate over all of the lines.\n",
    "    We will then be able to calculate the average percent of the lines usage capacity"
   ]
  },
  {
   "cell_type": "code",
   "execution_count": 18,
   "metadata": {},
   "outputs": [
    {
     "name": "stdout",
     "output_type": "stream",
     "text": [
      "The average percent of the lines capacity being utilized for bit transfer is 80.0 %\n"
     ]
    }
   ],
   "source": [
    "percent_line_capacity = (average_bit_rate_total/total_capacity)*100\n",
    "print('The average percent of the lines capacity being utilized for bit transfer is',percent_line_capacity,'%')"
   ]
  },
  {
   "cell_type": "markdown",
   "metadata": {},
   "source": [
    "    However, if we are only concerned with the amount that is being used for the data transfer,\n",
    "    we will instead want to use the data transmission rate instead"
   ]
  },
  {
   "cell_type": "markdown",
   "metadata": {},
   "source": [
    "    And we already know what the total data transmission rate is for the entire line.\n",
    "    Therefore, we are able to calculate the average percentage of the lines capacity being utilized"
   ]
  },
  {
   "cell_type": "code",
   "execution_count": 16,
   "metadata": {},
   "outputs": [
    {
     "name": "stdout",
     "output_type": "stream",
     "text": [
      "The average percent of the lines capacity being utilized for data transfer is 77.0 %\n"
     ]
    }
   ],
   "source": [
    "percent_line_capacity = (average_data_rate_total/total_capacity)*100\n",
    "print('The average percent of the lines capacity being utilized for data transfer is',percent_line_capacity,'%')"
   ]
  },
  {
   "cell_type": "markdown",
   "metadata": {},
   "source": [
    "### Question 2"
   ]
  },
  {
   "cell_type": "markdown",
   "metadata": {},
   "source": [
    "**a) How many users would the line support assuming each user has a 8 Mbps\n",
    "connection and uses synchronous TDM to access the line? Assume that only 95% of the\n",
    "capacity of the line may be used for user connections.**"
   ]
  },
  {
   "cell_type": "markdown",
   "metadata": {},
   "source": [
    "    We know that the total capacity of the line is 180 Mbps"
   ]
  },
  {
   "cell_type": "code",
   "execution_count": 19,
   "metadata": {},
   "outputs": [],
   "source": [
    "total_capacity = 180"
   ]
  },
  {
   "cell_type": "markdown",
   "metadata": {},
   "source": [
    "    We also know that each user needs a 8Mbps connection and that the line is divided using synchronous TDM, \n",
    "    so we cannot have the total bandwidth exceed the lines total capacity"
   ]
  },
  {
   "cell_type": "code",
   "execution_count": 20,
   "metadata": {},
   "outputs": [],
   "source": [
    "user_capacity = 8"
   ]
  },
  {
   "cell_type": "markdown",
   "metadata": {},
   "source": [
    "    Finally, we know that the line can only use 95% of its total capacity for user connections"
   ]
  },
  {
   "cell_type": "code",
   "execution_count": 21,
   "metadata": {},
   "outputs": [],
   "source": [
    "usable_capacity = total_capacity * 0.95"
   ]
  },
  {
   "cell_type": "markdown",
   "metadata": {},
   "source": [
    "    To get the number of users possible, we can divide the usable capacity by the capacity needed per user.\n",
    "    If this number is not an integer, then we will round down as we cannot have partial users and we cannot exceed \n",
    "    the usable capacity"
   ]
  },
  {
   "cell_type": "code",
   "execution_count": 23,
   "metadata": {},
   "outputs": [
    {
     "name": "stdout",
     "output_type": "stream",
     "text": [
      "The maximum number of users that can be supported by the line is 21.0\n"
     ]
    }
   ],
   "source": [
    "max_users = usable_capacity//user_capacity                        # integer division to round down\n",
    "print('The maximum number of users that can be supported by the line is',max_users)"
   ]
  },
  {
   "cell_type": "markdown",
   "metadata": {},
   "source": [
    "**b) Suppose that each user only used their 8 Mbps line 28% of the time, 95% of the\n",
    "capacity of the may be used for user connections and synchronous TDM is being used.\n",
    "How many users can the line support for these assumptions?**"
   ]
  },
  {
   "cell_type": "markdown",
   "metadata": {},
   "source": [
    "    Since we are using synchronous TDM, even when the user is not sending any data, the bandwidth that is being \n",
    "    reserved for the user cannot be used by other users, so we would still have the same number of users being \n",
    "    supported, 21"
   ]
  },
  {
   "cell_type": "markdown",
   "metadata": {},
   "source": [
    "**c) Suppose that each user only used their 8 Mbps line 28% of the time, 92% of the\n",
    "capacity of the may be used for user connections and statistical TDM is being used. How\n",
    "many users can the line support for these assumptions?**"
   ]
  },
  {
   "cell_type": "markdown",
   "metadata": {},
   "source": [
    "    Under statistical TDM, we will need to calculate the average amount of input data that each user will generate"
   ]
  },
  {
   "cell_type": "code",
   "execution_count": 29,
   "metadata": {},
   "outputs": [],
   "source": [
    "average_user_input = 8*0.28                 # 28% of the time, using 8Mbps"
   ]
  },
  {
   "cell_type": "markdown",
   "metadata": {},
   "source": [
    "    We also need to update the usable capacity of the line, as we are only able to use 92% now"
   ]
  },
  {
   "cell_type": "code",
   "execution_count": 30,
   "metadata": {},
   "outputs": [],
   "source": [
    "usable_capacity = total_capacity * 0.92"
   ]
  },
  {
   "cell_type": "markdown",
   "metadata": {},
   "source": [
    "    We now want to pick a number of users, such that the average input rate summed over all of the users will be less \n",
    "    than the usable capacity of the line. If the number is not an integer, then we will round down"
   ]
  },
  {
   "cell_type": "code",
   "execution_count": 31,
   "metadata": {},
   "outputs": [
    {
     "name": "stdout",
     "output_type": "stream",
     "text": [
      "The maximum number of users that the line can support under these assumptions is 73.0\n"
     ]
    }
   ],
   "source": [
    "max_users  = usable_capacity//average_user_input\n",
    "print('The maximum number of users that the line can support under these assumptions is', max_users)"
   ]
  },
  {
   "cell_type": "markdown",
   "metadata": {},
   "source": [
    "    The number of users is much larger because on average, the total input rate is only 2.24 Mbps, which is almost\n",
    "    four times smaller than the average input for the synchronous method"
   ]
  },
  {
   "cell_type": "markdown",
   "metadata": {},
   "source": [
    "**d) Suppose there are 80 users, using 3 Mbps connections at the same time. Each\n",
    "user uses their connection 41% of the time. Find the probability that at any given time,\n",
    "exactly 18 users are transmitting simultaneously. (Hint: use the binomial distribution).**"
   ]
  },
  {
   "cell_type": "markdown",
   "metadata": {},
   "source": [
    "    Using the binomial distribution, we will have the following varaibles"
   ]
  },
  {
   "cell_type": "code",
   "execution_count": 37,
   "metadata": {},
   "outputs": [],
   "source": [
    "p = 0.41\n",
    "n = 80\n",
    "k = 18"
   ]
  },
  {
   "cell_type": "markdown",
   "metadata": {},
   "source": [
    "    Where p is the probability of each of the users using their line at any given time,\n",
    "    n is the number of users\n",
    "    k is the number of users using the line that we are the same time\n",
    "    \n",
    "    The formula for the binomial distribution follows"
   ]
  },
  {
   "cell_type": "code",
   "execution_count": 50,
   "metadata": {},
   "outputs": [],
   "source": [
    "def factorial(n):                        # helper function for the binomial function\n",
    "    prod = 1\n",
    "    for i in range(n):\n",
    "        prod *= (i+1)\n",
    "    return prod\n",
    "\n",
    "def binomial(n,p,k):\n",
    "    n_choose_k = factorial(n)/(factorial(k) * factorial(n-k))\n",
    "    return (n_choose_k * p**k * (1-p)**(n-k))"
   ]
  },
  {
   "cell_type": "markdown",
   "metadata": {},
   "source": [
    "    Therefore, we can now use the binomial distribution to calculate the probability that exactly 18 users are \n",
    "    using their lines simultaneously"
   ]
  },
  {
   "cell_type": "code",
   "execution_count": 52,
   "metadata": {},
   "outputs": [
    {
     "name": "stdout",
     "output_type": "stream",
     "text": [
      "The probability that exactly 18 lines are in use simultaneously is 0.00023627864472088427 or 0.023627864472088426 %\n"
     ]
    }
   ],
   "source": [
    "probability = binomial(n,p,k)\n",
    "print('The probability that exactly 18 lines are in use simultaneously is', probability, 'or', probability*100,'%')"
   ]
  },
  {
   "cell_type": "markdown",
   "metadata": {},
   "source": [
    "**e) Assume that the transmission line in the problem is used within a packet\n",
    "switched network. Would you use Synchronous or Statistical TDM? Why?**"
   ]
  },
  {
   "cell_type": "markdown",
   "metadata": {},
   "source": [
    "    For a packet switched network, I would probably use Statistical TDM, because of the variable input rate of the packet\n",
    "    switched network, and because we are working within a packet switched network, we also know that there will be delays\n",
    "    expected along the line already, so this allows us to maximize our throughput, as we don't have to worry as much about\n",
    "    any delays that are introduced into the system"
   ]
  },
  {
   "cell_type": "markdown",
   "metadata": {},
   "source": [
    "**f) Assume that the transmission line in the problem is used within a connection\n",
    "oriented circuit switched network. Would you use Synchronous or Statistical TDM? Why?**"
   ]
  },
  {
   "cell_type": "markdown",
   "metadata": {},
   "source": [
    "    For a connection oriented circuit switched network, I would probably use Synchronous TDM. This is because with a\n",
    "    connection oriented circuit switched network, the main advantage is that we will have very little signal delay. If we \n",
    "    were to use Statistical TDM, it would introduce the possibility of a queueing delay into the system, but with a\n",
    "    Synchronous system, we wouldn't have to worry about that. This of course, comes at the cost of the overall throughput\n",
    "    of the system, but with a connection oriented circuit switched network, we were already capped at a lower throughput \n",
    "    anyways"
   ]
  },
  {
   "cell_type": "markdown",
   "metadata": {},
   "source": [
    "### Question 3"
   ]
  },
  {
   "cell_type": "markdown",
   "metadata": {},
   "source": [
    "**a) What does DNS stand for?**"
   ]
  },
  {
   "cell_type": "markdown",
   "metadata": {},
   "source": [
    "    DNS stands for Domain Name System"
   ]
  },
  {
   "cell_type": "markdown",
   "metadata": {},
   "source": [
    "   **b) State four basic uses for DNS?**"
   ]
  },
  {
   "cell_type": "markdown",
   "metadata": {},
   "source": [
    "    1. IP address lookup - looking up IP addresses, given the name of a host\n",
    "    2. Host name lookup - looking up the host name, given a particular IP address\n",
    "    3. Name aliasing - allowing multiple host names to be routed to the same IP address. i.e. google.com and www.google.com\n",
    "    There is also the special case when we can use the same host name for mail and web servers\n",
    "    4. Load distribution - returning a set of IP addresses for larger web servers with a lot of traffic. i.e. google"
   ]
  },
  {
   "cell_type": "markdown",
   "metadata": {},
   "source": [
    "**c) i) After the query for collie.dog.pet.bc.ca. what DNS name server records\n",
    "are stored in the cache (ignore information about root servers)?**"
   ]
  },
  {
   "cell_type": "markdown",
   "metadata": {},
   "source": [
    "**ii)  Now consider asking for the IP address of siamese.cat.pet.bc.ca. Which\n",
    "DNS server would the first query be sent to? Why?**"
   ]
  },
  {
   "cell_type": "markdown",
   "metadata": {},
   "source": [
    "**iii) Now consider asking for the IP address of siamese.cat.pet.ca. When\n",
    "making a query to .pet.bc.ca. what would be the DNS record being requested in the\n",
    "query?**"
   ]
  },
  {
   "cell_type": "markdown",
   "metadata": {},
   "source": [
    "**iv) Draw an annotated diagram to help you explain how the query for the\n",
    "address of siamese.cat.pet.bc.ca. is executed. Show the Resolver, the local DNS\n",
    "server and all DNS servers queried in your diagram. Show all information travelling\n",
    "between the resolver and the DNS servers in your diagram. Be sure to indicate on\n",
    "your diagram what information is requested and returned in each query. State any\n",
    "assumptions you make. Assume the local DNS server makes iterative queries** "
   ]
  },
  {
   "cell_type": "markdown",
   "metadata": {},
   "source": [
    "### Question 4"
   ]
  },
  {
   "cell_type": "markdown",
   "metadata": {},
   "source": [
    "**a) What is the propagation delay?**"
   ]
  },
  {
   "cell_type": "markdown",
   "metadata": {},
   "source": [
    "    Propogation delay is determined by the propogation speed and the distance betweent the points. The propogation speed is\n",
    "    2*10^8 m/s and the distance is 5000m"
   ]
  },
  {
   "cell_type": "code",
   "execution_count": 53,
   "metadata": {},
   "outputs": [],
   "source": [
    "speed = 2*10**8\n",
    "distance = 5000"
   ]
  },
  {
   "cell_type": "markdown",
   "metadata": {},
   "source": [
    "    We can now calculate the propogation delay"
   ]
  },
  {
   "cell_type": "code",
   "execution_count": 55,
   "metadata": {},
   "outputs": [
    {
     "name": "stdout",
     "output_type": "stream",
     "text": [
      "The propogation delay will be 25.0 us\n"
     ]
    }
   ],
   "source": [
    "propogation_delay = distance/speed\n",
    "print('The propogation delay will be', propogation_delay*10**6,'us')"
   ]
  },
  {
   "cell_type": "markdown",
   "metadata": {},
   "source": [
    "**b) What is the maximum number of bits that have left A before the first bit arrives\n",
    "at B? This number of bits is called the bandwidth delay product**"
   ]
  },
  {
   "cell_type": "markdown",
   "metadata": {},
   "source": [
    "    The number of bits that have left A by the time the first bit arrives at B will be equal to the transmission rate of \n",
    "    the connection times the amount of time that it will take the first bit to reach B (the propogation delay). We can \n",
    "    calculate the maximum number of bits as follows"
   ]
  },
  {
   "cell_type": "code",
   "execution_count": 56,
   "metadata": {},
   "outputs": [
    {
     "name": "stdout",
     "output_type": "stream",
     "text": [
      "The maximum number of bits that have left A before the first bit arrives at B is 629 bits\n"
     ]
    }
   ],
   "source": [
    "transmission_rate = 24*2**20          # bits per second\n",
    "bandwidth_delay_product = int(transmission_rate*propogation_delay)       # cast it to an int to round down\n",
    "print('The maximum number of bits that have left A before the first bit arrives at B is', bandwidth_delay_product,'bits')"
   ]
  },
  {
   "cell_type": "markdown",
   "metadata": {},
   "source": [
    "**c) We can think of each bit occupying a piece of the link. If the bandwidth delay\n",
    "product tells us that there are 100 bits in the transmission medium then we can think of\n",
    "each bit occupying 1/100 of the length of the transmission media. What is the width of\n",
    "each bit (the length of the transmission medium it fills)?**"
   ]
  },
  {
   "cell_type": "markdown",
   "metadata": {},
   "source": [
    "    We need to know how many bits are in the medium at any given time (the bandwidth_daley_product) and the length of the \n",
    "    medium. Given that the medium is 5000m long and we have 629 bits in the medium at any given time, we can calculate the\n",
    "    width of each bit as follows"
   ]
  },
  {
   "cell_type": "code",
   "execution_count": 59,
   "metadata": {},
   "outputs": [
    {
     "name": "stdout",
     "output_type": "stream",
     "text": [
      "Each bit is theoretically 7.94912559618442 m long\n"
     ]
    }
   ],
   "source": [
    "bit_width = distance/bandwidth_delay_product\n",
    "print('Each bit is theoretically',bit_width,'m long')"
   ]
  },
  {
   "cell_type": "markdown",
   "metadata": {},
   "source": [
    "**d) Consider sending the file through the packet switched network without\n",
    "message segmentation (as a single packet). Assume that each of the intermediate hosts\n",
    "are store and forward nodes. How long does it take to send the file from A to B?**"
   ]
  },
  {
   "cell_type": "markdown",
   "metadata": {},
   "source": [
    "    To begin with, we know that the file is 3GB or 3*2^30 bits, the propogation delay on each link is 0.004s, the\n",
    "    processing delay at each link is 0.003s, and there is no queueing delay. We also know that there at 9 intermediate \n",
    "    links."
   ]
  },
  {
   "cell_type": "code",
   "execution_count": 61,
   "metadata": {},
   "outputs": [],
   "source": [
    "file_size = 3*2**30\n",
    "propogation_delay = 0.004\n",
    "processing_delay = 0.003\n",
    "number_links = 9"
   ]
  },
  {
   "cell_type": "markdown",
   "metadata": {},
   "source": [
    "    We also need to find out the transmission delay. For the case when we do not segment the file, we will have the packet \n",
    "    size be equal to the file size. We also have a transmission rate of 90Mbps. Therefore, we are now able to calculate the\n",
    "    transmission delay as follows"
   ]
  },
  {
   "cell_type": "code",
   "execution_count": 62,
   "metadata": {},
   "outputs": [],
   "source": [
    "transmission_rate = 90*2**20        # bits per second\n",
    "transmission_delay = file_size/transmission_rate"
   ]
  },
  {
   "cell_type": "markdown",
   "metadata": {},
   "source": [
    "    Finally, to get the overall delay, we realize that at each of the intermediate links as well as at the original host A,\n",
    "    we encounter a propogation delay and transmission delay. We also encounter a processing delay at each of the\n",
    "    intermediate links as well as the end host, B. We will have a count of 10 for each delay. We can now calculate the\n",
    "    total delay as follows"
   ]
  },
  {
   "cell_type": "code",
   "execution_count": 66,
   "metadata": {},
   "outputs": [
    {
     "name": "stdout",
     "output_type": "stream",
     "text": [
      "The total amount of time that it will take to send the file from A to B will be 341.4033333333333 s, or 5 m 41.40333333333331 s\n"
     ]
    }
   ],
   "source": [
    "total_delay = (number_links + 1)*(processing_delay+propogation_delay+transmission_delay)\n",
    "print('The total amount of time that it will take to send the file from A to B will be',total_delay,'s, or', int(total_delay//60), 'm', total_delay%60, 's')"
   ]
  },
  {
   "cell_type": "markdown",
   "metadata": {},
   "source": [
    "**e)  Assume that the file is segmented into packets containing 12000 bits each. Each\n",
    "packet has a header of 200 bits. If a packet is partially full of data the remainder of the\n",
    "data field is filled with zeros before the resulting full size packet is transmitted. How long\n",
    "does it take for the file to be transmitted through the network (assume no queuing delays)**"
   ]
  },
  {
   "cell_type": "markdown",
   "metadata": {},
   "source": [
    "    We will have the same file size, propogation delay, processing delay, and number of intermediate links as with part d).\n",
    "    However, we will have a new transmission delay, as we are sending smaller packets, this time of size 12000 with a\n",
    "    header that consists of 200 of those bits"
   ]
  },
  {
   "cell_type": "code",
   "execution_count": 70,
   "metadata": {},
   "outputs": [],
   "source": [
    "packet_size = 12000\n",
    "transmission_delay = packet_size/transmission_rate"
   ]
  },
  {
   "cell_type": "markdown",
   "metadata": {},
   "source": [
    "    We can now calculate the amount of delay experienced by each packet, using the same reasoning as in part d)"
   ]
  },
  {
   "cell_type": "code",
   "execution_count": 85,
   "metadata": {},
   "outputs": [],
   "source": [
    "packet_delay = (number_links + 1)*(processing_delay+propogation_delay+transmission_delay)"
   ]
  },
  {
   "cell_type": "markdown",
   "metadata": {},
   "source": [
    "    However, now we must also take into account, how many packets we have to send into the system"
   ]
  },
  {
   "cell_type": "code",
   "execution_count": 75,
   "metadata": {},
   "outputs": [],
   "source": [
    "data_per_packet = 12000-200\n",
    "number_of_packets = file_size/data_per_packet\n",
    "if number_of_packets%1 != 0:                # rounds up if not a whole number\n",
    "    number_of_packets = number_of_packets//1 + 1"
   ]
  },
  {
   "cell_type": "markdown",
   "metadata": {},
   "source": [
    "    Finally, we take into account how long it will take to send the first n-1 packets into the system and then add on the \n",
    "    time it will take for the nth packet to reach host B. The rate at which we send packets into the system is limited by \n",
    "    the transmission rate and the size of the packets. Once we get this rate, we then have to multiply it by the number of\n",
    "    packets that we are sending into the system"
   ]
  },
  {
   "cell_type": "markdown",
   "metadata": {},
   "source": [
    "##### One assumption made is that the processing delay does not effect the rate at which we can send the file into the system. If we take into account that we cannot start recieving the bits of the next packet until the current packet has finished being processed then we would have to add a term of (number_of_packets-1)*processing_delay onto the n_minus_one_time"
   ]
  },
  {
   "cell_type": "code",
   "execution_count": 84,
   "metadata": {},
   "outputs": [
    {
     "name": "stdout",
     "output_type": "stream",
     "text": [
      "Using packets of 12000 bits, it will take 34.7831093343099 s to transmit the file from A to B\n"
     ]
    }
   ],
   "source": [
    "packet_rate = packet_size/transmission_rate\n",
    "n_minus_one_time = packet_rate * (number_of_packets-1)\n",
    "total_time = n_minus_one_time + packet_delay\n",
    "print('Using packets of 12000 bits, it will take', total_time,'s to transmit the file from A to B')"
   ]
  }
 ],
 "metadata": {
  "kernelspec": {
   "display_name": "Python 3",
   "language": "python",
   "name": "python3"
  },
  "language_info": {
   "codemirror_mode": {
    "name": "ipython",
    "version": 3
   },
   "file_extension": ".py",
   "mimetype": "text/x-python",
   "name": "python",
   "nbconvert_exporter": "python",
   "pygments_lexer": "ipython3",
   "version": "3.8.2"
  }
 },
 "nbformat": 4,
 "nbformat_minor": 4
}
